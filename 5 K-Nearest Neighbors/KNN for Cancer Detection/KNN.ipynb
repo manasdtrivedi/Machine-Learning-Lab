{
  "nbformat": 4,
  "nbformat_minor": 0,
  "metadata": {
    "colab": {
      "name": "KNN.ipynb",
      "provenance": []
    },
    "kernelspec": {
      "name": "python3",
      "display_name": "Python 3"
    }
  },
  "cells": [
    {
      "cell_type": "markdown",
      "metadata": {
        "id": "Aq8ur5-Pnr8n"
      },
      "source": [
        "# K-Nearest Neighbours\r\n",
        "\r\n",
        "Name: Manas Trivedi  \r\n",
        "Roll no.: 181CO231  \r\n",
        "Date: 9 Mar 2021"
      ]
    },
    {
      "cell_type": "markdown",
      "metadata": {
        "id": "1wWBcHhgn1n8"
      },
      "source": [
        "## Importing libraries"
      ]
    },
    {
      "cell_type": "code",
      "metadata": {
        "id": "Y-cEfRMtnw3Q"
      },
      "source": [
        "import pandas as pd\r\n",
        "from sklearn.model_selection import train_test_split\r\n",
        "from sklearn.neighbors import KNeighborsClassifier\r\n",
        "from sklearn.metrics import accuracy_score\r\n",
        "from sklearn.model_selection import cross_val_score"
      ],
      "execution_count": 1,
      "outputs": []
    },
    {
      "cell_type": "markdown",
      "metadata": {
        "id": "fbhd4u6qoZ2n"
      },
      "source": [
        "## Reading the dataset, setting class label"
      ]
    },
    {
      "cell_type": "code",
      "metadata": {
        "id": "401R7UwAoeM3"
      },
      "source": [
        "data_frame = pd.read_csv(\"data.csv\")\r\n",
        "data_frame = data_frame.drop(['id', 'Unnamed: 32'], axis = 1)\r\n",
        "inputs = data_frame.drop(columns = [\"diagnosis\"])\r\n",
        "outputs = data_frame[\"diagnosis\"]"
      ],
      "execution_count": 2,
      "outputs": []
    },
    {
      "cell_type": "markdown",
      "metadata": {
        "id": "xsPH6s2noqj-"
      },
      "source": [
        "## Splitting the dataset and finding best k"
      ]
    },
    {
      "cell_type": "code",
      "metadata": {
        "colab": {
          "base_uri": "https://localhost:8080/"
        },
        "id": "thmma_mQovtQ",
        "outputId": "9921e113-87f7-47f4-ccaa-f579fd036ea9"
      },
      "source": [
        "training_inputs, testing_inputs, training_outputs, true_outputs = train_test_split(inputs, outputs, test_size = 0.3)\r\n",
        "best_score = 0\r\n",
        "best_k = 1\r\n",
        "for k in range(1, 50):\r\n",
        "  knn_classifier = KNeighborsClassifier(n_neighbors = k)\r\n",
        "  score = cross_val_score(knn_classifier, training_inputs, training_outputs, cv = 10, scoring = 'accuracy').mean()\r\n",
        "  if score > best_score:\r\n",
        "    best_score = score\r\n",
        "    best_k = k\r\n",
        "print('Best k is', best_k)"
      ],
      "execution_count": 3,
      "outputs": [
        {
          "output_type": "stream",
          "text": [
            "Best k is 13\n"
          ],
          "name": "stdout"
        }
      ]
    },
    {
      "cell_type": "markdown",
      "metadata": {
        "id": "DuolRq9Rowtd"
      },
      "source": [
        "## Applying the classifier with best k on the testing data and finding accuracy"
      ]
    },
    {
      "cell_type": "code",
      "metadata": {
        "colab": {
          "base_uri": "https://localhost:8080/"
        },
        "id": "NSjE8M-co2AN",
        "outputId": "f29d4d41-6d09-48fa-c46f-40e2f2a82cb0"
      },
      "source": [
        "knn_classifier = KNeighborsClassifier(n_neighbors = best_k)\r\n",
        "knn_classifier.fit(training_inputs, training_outputs)\r\n",
        "predicted_outputs = knn_classifier.predict(testing_inputs)\r\n",
        "accuracy = accuracy_score(true_outputs, predicted_outputs)\r\n",
        "print('Accuracy of KNN Classifier:', '\\033[1m', str(accuracy * 100) + '%', '\\033[0m')"
      ],
      "execution_count": 4,
      "outputs": [
        {
          "output_type": "stream",
          "text": [
            "Accuracy of KNN Classifier: \u001b[1m 92.98245614035088% \u001b[0m\n"
          ],
          "name": "stdout"
        }
      ]
    }
  ]
}