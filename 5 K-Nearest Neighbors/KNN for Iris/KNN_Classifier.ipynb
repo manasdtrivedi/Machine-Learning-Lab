{
 "cells": [
  {
   "cell_type": "markdown",
   "metadata": {
    "id": "Aq8ur5-Pnr8n"
   },
   "source": [
    "# K-Nearest Neighbours\n",
    "\n",
    "Name: Manas Trivedi  \n",
    "Roll no.: 181CO231  \n",
    "Date: 2 Mar 2021"
   ]
  },
  {
   "cell_type": "markdown",
   "metadata": {
    "id": "1wWBcHhgn1n8"
   },
   "source": [
    "## Importing libraries"
   ]
  },
  {
   "cell_type": "code",
   "execution_count": 1,
   "metadata": {
    "id": "Y-cEfRMtnw3Q"
   },
   "outputs": [],
   "source": [
    "import pandas as pd\n",
    "from sklearn.model_selection import train_test_split\n",
    "from sklearn.neighbors import KNeighborsClassifier\n",
    "from sklearn.metrics import accuracy_score"
   ]
  },
  {
   "cell_type": "markdown",
   "metadata": {
    "id": "fbhd4u6qoZ2n"
   },
   "source": [
    "## Reading the dataset, setting class label"
   ]
  },
  {
   "cell_type": "code",
   "execution_count": 2,
   "metadata": {
    "id": "401R7UwAoeM3"
   },
   "outputs": [],
   "source": [
    "data_frame = pd.read_csv(\"Iris.csv\")\n",
    "inputs = data_frame.drop(columns = [\"Id\", \"Species\"])\n",
    "outputs = data_frame[\"Species\"]"
   ]
  },
  {
   "cell_type": "markdown",
   "metadata": {
    "id": "xsPH6s2noqj-"
   },
   "source": [
    "## Splitting the dataset and building the classifier"
   ]
  },
  {
   "cell_type": "code",
   "execution_count": 3,
   "metadata": {
    "colab": {
     "base_uri": "https://localhost:8080/"
    },
    "id": "thmma_mQovtQ",
    "outputId": "def49821-3d28-44bb-d9d8-3181145a37fb"
   },
   "outputs": [
    {
     "data": {
      "text/plain": [
       "KNeighborsClassifier()"
      ]
     },
     "execution_count": 3,
     "metadata": {},
     "output_type": "execute_result"
    }
   ],
   "source": [
    "training_inputs, testing_inputs, training_outputs, true_outputs = train_test_split(inputs, outputs, test_size = 0.3)\n",
    "knn_classifier = KNeighborsClassifier(n_neighbors = 5)\n",
    "knn_classifier.fit(training_inputs, training_outputs)"
   ]
  },
  {
   "cell_type": "markdown",
   "metadata": {
    "id": "DuolRq9Rowtd"
   },
   "source": [
    "## Applying the classifier on the testing data and finding accuracy"
   ]
  },
  {
   "cell_type": "code",
   "execution_count": 4,
   "metadata": {
    "colab": {
     "base_uri": "https://localhost:8080/"
    },
    "id": "NSjE8M-co2AN",
    "outputId": "8c2d8da9-1adb-44aa-e588-efc67351ac29"
   },
   "outputs": [
    {
     "name": "stdout",
     "output_type": "stream",
     "text": [
      "Accuracy of KNN Classifier: \u001b[1m 95.55555555555556% \u001b[0m\n"
     ]
    }
   ],
   "source": [
    "predicted_outputs = knn_classifier.predict(testing_inputs)\n",
    "accuracy = accuracy_score(true_outputs, predicted_outputs)\n",
    "print('Accuracy of KNN Classifier:', '\\033[1m', str(accuracy * 100) + '%', '\\033[0m')"
   ]
  }
 ],
 "metadata": {
  "colab": {
   "name": "KNN.ipynb",
   "provenance": []
  },
  "kernelspec": {
   "display_name": "Python 3",
   "language": "python",
   "name": "python3"
  },
  "language_info": {
   "codemirror_mode": {
    "name": "ipython",
    "version": 3
   },
   "file_extension": ".py",
   "mimetype": "text/x-python",
   "name": "python",
   "nbconvert_exporter": "python",
   "pygments_lexer": "ipython3",
   "version": "3.8.5"
  }
 },
 "nbformat": 4,
 "nbformat_minor": 1
}
