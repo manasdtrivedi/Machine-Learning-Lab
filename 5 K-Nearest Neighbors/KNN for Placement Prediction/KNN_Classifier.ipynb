{
 "cells": [
  {
   "cell_type": "markdown",
   "metadata": {
    "id": "zl4YLpFVS5BM"
   },
   "source": [
    "# Predict Campus Recruitment Using KNN\n",
    "\n",
    "Name: Manas Trivedi  \n",
    "Roll no. 181CO231  \n",
    "Reg. no. 181711  \n",
    "\n",
    "Date: 13 Apr 2021"
   ]
  },
  {
   "cell_type": "markdown",
   "metadata": {
    "id": "_wUg_yw6ZVzr"
   },
   "source": [
    "### Importing libraries"
   ]
  },
  {
   "cell_type": "code",
   "execution_count": 1,
   "metadata": {
    "id": "BwYjJuMBSuOD"
   },
   "outputs": [],
   "source": [
    "import pandas as pd\n",
    "import numpy as np\n",
    "from sklearn.model_selection import train_test_split\n",
    "from sklearn.neighbors import KNeighborsClassifier\n",
    "from sklearn.metrics import accuracy_score\n",
    "from sklearn.preprocessing import LabelEncoder\n",
    "from sklearn.model_selection import cross_val_score"
   ]
  },
  {
   "cell_type": "markdown",
   "metadata": {
    "id": "q2DHDKi3aYlb"
   },
   "source": [
    "### Reading the dataset, preprocessing, setting class label"
   ]
  },
  {
   "cell_type": "code",
   "execution_count": 31,
   "metadata": {
    "id": "n0jnxlOIabTC"
   },
   "outputs": [],
   "source": [
    "df = pd.read_csv(\"Placement_Data_Full_Class.csv\")\n",
    "df = df.drop(columns = [\"sl_no\"]) # since sl_no is not required for the classification\n",
    "df = df.drop(columns = [\"salary\"]) # since salary is not required for the classification\n",
    "\n",
    "df = pd.get_dummies(df, columns = [\"gender\", \"ssc_b\", \"hsc_b\", \"hsc_s\", \"degree_t\", \"workex\", \"specialisation\"])\n",
    "\n",
    "inputs = df.drop(columns = [\"status\"])\n",
    "outputs = df[\"status\"]"
   ]
  },
  {
   "cell_type": "markdown",
   "metadata": {
    "id": "BFGn0tXQdqp7"
   },
   "source": [
    "### Splitting the dataset, finding best k"
   ]
  },
  {
   "cell_type": "code",
   "execution_count": 32,
   "metadata": {
    "colab": {
     "base_uri": "https://localhost:8080/"
    },
    "id": "pOHeKRTNdvhS",
    "outputId": "357a64a7-af85-46b1-ebfe-2fab7c275d34"
   },
   "outputs": [
    {
     "name": "stdout",
     "output_type": "stream",
     "text": [
      "Best k: 9\n"
     ]
    }
   ],
   "source": [
    "training_inputs, testing_inputs, training_outputs, actual_outputs = train_test_split(inputs, outputs, test_size = 0.3)\n",
    "best_k = 1\n",
    "best_score = 0\n",
    "for k in range(1, 25, 2):\n",
    "  knn_classifier = KNeighborsClassifier(n_neighbors = k)\n",
    "  score = cross_val_score(knn_classifier, training_inputs, training_outputs, scoring = 'accuracy').mean()\n",
    "  if score > best_score:\n",
    "    best_score = score\n",
    "    best_k = k\n",
    "print(\"Best k:\", best_k)"
   ]
  },
  {
   "cell_type": "markdown",
   "metadata": {
    "id": "kvGGwNOmfZwa"
   },
   "source": [
    "### Finding accuracy using best k"
   ]
  },
  {
   "cell_type": "code",
   "execution_count": 33,
   "metadata": {
    "colab": {
     "base_uri": "https://localhost:8080/"
    },
    "id": "Si4XUiNxfeNK",
    "outputId": "2e892df6-53ab-4620-f681-4556b3cd10c6"
   },
   "outputs": [
    {
     "name": "stdout",
     "output_type": "stream",
     "text": [
      "Accuracy: 92.3076923076923 %\n"
     ]
    }
   ],
   "source": [
    "knn_classifier = KNeighborsClassifier(n_neighbors = best_k)\n",
    "knn_classifier.fit(training_inputs, training_outputs)\n",
    "predicted_outputs = knn_classifier.predict(testing_inputs)\n",
    "accuracy = accuracy_score(actual_outputs, predicted_outputs)\n",
    "print(\"Accuracy:\", str(accuracy * 100), \"%\")"
   ]
  }
 ],
 "metadata": {
  "colab": {
   "name": "181CO231_Endsem_ML_Lab.ipynb",
   "provenance": []
  },
  "kernelspec": {
   "display_name": "Python 3",
   "language": "python",
   "name": "python3"
  },
  "language_info": {
   "codemirror_mode": {
    "name": "ipython",
    "version": 3
   },
   "file_extension": ".py",
   "mimetype": "text/x-python",
   "name": "python",
   "nbconvert_exporter": "python",
   "pygments_lexer": "ipython3",
   "version": "3.8.5"
  }
 },
 "nbformat": 4,
 "nbformat_minor": 1
}
