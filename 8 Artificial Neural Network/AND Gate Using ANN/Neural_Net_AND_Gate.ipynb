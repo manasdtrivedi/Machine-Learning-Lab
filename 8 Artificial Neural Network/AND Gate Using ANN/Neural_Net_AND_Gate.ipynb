{
 "cells": [
  {
   "cell_type": "markdown",
   "metadata": {
    "id": "mltSmvSEl5iw"
   },
   "source": [
    "# Artificial Neural Network for AND Gate\n",
    "\n",
    "Name: Manas Trivedi  \n",
    "Roll no.: 181CO231  \n",
    "Date: 30 Mar 2021"
   ]
  },
  {
   "cell_type": "markdown",
   "metadata": {
    "id": "UxRajTA2mPNh"
   },
   "source": [
    "## Importing libraries"
   ]
  },
  {
   "cell_type": "code",
   "execution_count": 1,
   "metadata": {
    "id": "K1_nBI-tlmWG"
   },
   "outputs": [],
   "source": [
    "import numpy as np"
   ]
  },
  {
   "cell_type": "markdown",
   "metadata": {
    "id": "h3mNvRnymTeW"
   },
   "source": [
    "## Setting inputs and outputs"
   ]
  },
  {
   "cell_type": "code",
   "execution_count": 2,
   "metadata": {
    "id": "gZu-Uxb7mq4P"
   },
   "outputs": [],
   "source": [
    "inputs = np.array(\n",
    "    [\n",
    "     [0, 0, 1, 1],\n",
    "     [0, 1, 0, 1]\n",
    "    ]\n",
    ")\n",
    "outputs = np.array(\n",
    "    [\n",
    "     [0, 0, 0, 1]\n",
    "    ]\n",
    ")"
   ]
  },
  {
   "cell_type": "markdown",
   "metadata": {
    "id": "E-4BzaZWnQQ8"
   },
   "source": [
    "## Setting network parameters"
   ]
  },
  {
   "cell_type": "code",
   "execution_count": 3,
   "metadata": {
    "id": "RzcLlSNyniFO"
   },
   "outputs": [],
   "source": [
    "learning_rate = 0.01\n",
    "w1 = np.random.randn(2, inputs.shape[0])\n",
    "b1 = np.zeros((2, 1))\n",
    "w2 = np.random.randn(outputs.shape[0], 2)\n",
    "b2 = np.zeros((outputs.shape[0], 1))\n",
    "number_of_epochs = 100000"
   ]
  },
  {
   "cell_type": "markdown",
   "metadata": {
    "id": "0-PQlYzBp_8A"
   },
   "source": [
    "## Training the neural network"
   ]
  },
  {
   "cell_type": "code",
   "execution_count": 4,
   "metadata": {
    "id": "WxNtpE_cqB__"
   },
   "outputs": [],
   "source": [
    "for i in range(number_of_epochs):\n",
    "  # Forward propagation\n",
    "  m = inputs.shape[1]\n",
    "  z1 = b1 + np.dot(w1, inputs)\n",
    "  a1 = 1 / (1 + np.exp(-z1))\n",
    "  z2 = b2 + np.dot(w2, a1)\n",
    "  a2 = 1 / (1 + np.exp(-z2))\n",
    "  # Backward propagation\n",
    "  dz2 = a2 - outputs\n",
    "  dw2 = np.dot(dz2, a1.T) / m\n",
    "  db2 = np.sum(dz2, axis = 1, keepdims = True)\n",
    "  da1 = np.dot(w2.T, dz2)\n",
    "  dz1 = np.multiply(da1, a1 * (1 -  a1))\n",
    "  dw1 = np.dot(dz1, inputs.T) / m\n",
    "  db1 = np.sum(dz1, axis = 1, keepdims = True) / m\n",
    "  # Update weights and biases\n",
    "  w1 -= learning_rate * dw1\n",
    "  b1 -= learning_rate * db1\n",
    "  w2 -= learning_rate * dw2\n",
    "  b2 -= learning_rate * db2"
   ]
  },
  {
   "cell_type": "markdown",
   "metadata": {
    "id": "AitybKyVvOqU"
   },
   "source": [
    "## Testing the network"
   ]
  },
  {
   "cell_type": "code",
   "execution_count": 5,
   "metadata": {
    "colab": {
     "base_uri": "https://localhost:8080/"
    },
    "id": "CncY-kSuvLK7",
    "outputId": "dae52de5-fedd-4f06-ac31-6da893bdcea2"
   },
   "outputs": [
    {
     "name": "stdout",
     "output_type": "stream",
     "text": [
      "1 & 0 = 0\n",
      "0 & 0 = 0\n",
      "1 & 1 = 1\n",
      "0 & 1 = 0\n"
     ]
    }
   ],
   "source": [
    "inputs = np.array(\n",
    "    [\n",
    "     [1, 0, 1, 0],\n",
    "     [0, 0, 1, 1]\n",
    "    ]\n",
    ")\n",
    "z1 = b1 + np.dot(w1, inputs)\n",
    "a1 = 1 / (1 + np.exp(-z1))\n",
    "z2 = b2 + np.dot(w2, a1)\n",
    "a2 = 1 / (1 + np.exp(-z2))\n",
    "predicted_outputs = (a2 > 0.5) * 1\n",
    "for i in range(0, 4):\n",
    "  print(inputs[0][i], \"&\", inputs[1][i], \"=\", predicted_outputs[0][i])"
   ]
  }
 ],
 "metadata": {
  "colab": {
   "collapsed_sections": [],
   "name": "Neural_Net_AND_Gate.ipynb",
   "provenance": []
  },
  "kernelspec": {
   "display_name": "Python 3",
   "language": "python",
   "name": "python3"
  },
  "language_info": {
   "codemirror_mode": {
    "name": "ipython",
    "version": 3
   },
   "file_extension": ".py",
   "mimetype": "text/x-python",
   "name": "python",
   "nbconvert_exporter": "python",
   "pygments_lexer": "ipython3",
   "version": "3.8.5"
  }
 },
 "nbformat": 4,
 "nbformat_minor": 1
}
