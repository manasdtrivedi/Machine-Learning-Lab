{
  "nbformat": 4,
  "nbformat_minor": 0,
  "metadata": {
    "colab": {
      "name": "Logistic_Regression.ipynb",
      "provenance": []
    },
    "kernelspec": {
      "name": "python3",
      "display_name": "Python 3"
    },
    "language_info": {
      "name": "python"
    }
  },
  "cells": [
    {
      "cell_type": "markdown",
      "metadata": {
        "id": "AvEFf-LMcbkC"
      },
      "source": [
        "# Logistic Regression\n",
        "\n",
        "Name: Manas Trivedi  \n",
        "Roll no.: 181CO231  \n",
        "Date: 23 Mar 2021"
      ]
    },
    {
      "cell_type": "markdown",
      "metadata": {
        "id": "r__imTyZdQ9Y"
      },
      "source": [
        "## Importing libraries"
      ]
    },
    {
      "cell_type": "code",
      "metadata": {
        "id": "bEgEq8U0cU7B"
      },
      "source": [
        "import pandas as pd\n",
        "from sklearn.model_selection import train_test_split\n",
        "from sklearn.linear_model import LogisticRegression\n",
        "from sklearn.metrics import accuracy_score"
      ],
      "execution_count": 1,
      "outputs": []
    },
    {
      "cell_type": "markdown",
      "metadata": {
        "id": "ykUGFUtMf98b"
      },
      "source": [
        "## Reading and preprocessing the dataset, setting class label"
      ]
    },
    {
      "cell_type": "code",
      "metadata": {
        "id": "G32f1UHigGF3"
      },
      "source": [
        "data_frame = pd.read_csv(\"UCI_Credit_Card.csv\")\n",
        "data_frame = data_frame.drop([\"ID\"], axis = 1)\n",
        "for i in range(0, 29999):\n",
        "  if(data_frame.at[i, \"EDUCATION\"] in [0, 5, 6]):\n",
        "    data_frame.at[i, \"EDUCATION\"] = 4\n",
        "  if(data_frame.at[i, \"MARRIAGE\"] == 0):\n",
        "    data_frame.at[i, \"MARRIAGE\"] = 3\n",
        "inputs = data_frame.drop(columns = [\"default.payment.next.month\"])\n",
        "outputs = data_frame[\"default.payment.next.month\"]"
      ],
      "execution_count": 2,
      "outputs": []
    },
    {
      "cell_type": "markdown",
      "metadata": {
        "id": "dPgmHDMngmzw"
      },
      "source": [
        "## Splitting the dataset, training the model"
      ]
    },
    {
      "cell_type": "code",
      "metadata": {
        "colab": {
          "base_uri": "https://localhost:8080/"
        },
        "id": "dyksB89egoTx",
        "outputId": "24070010-b9de-4be9-ca9e-ae59717b7520"
      },
      "source": [
        "training_inputs, testing_inputs, training_outputs, true_outputs = train_test_split(inputs, outputs, test_size = 0.3)\n",
        "logistic_regression_model = LogisticRegression(max_iter = 1000)\n",
        "logistic_regression_model.fit(training_inputs, training_outputs)"
      ],
      "execution_count": 4,
      "outputs": [
        {
          "output_type": "execute_result",
          "data": {
            "text/plain": [
              "LogisticRegression(C=1.0, class_weight=None, dual=False, fit_intercept=True,\n",
              "                   intercept_scaling=1, l1_ratio=None, max_iter=1000,\n",
              "                   multi_class='auto', n_jobs=None, penalty='l2',\n",
              "                   random_state=None, solver='lbfgs', tol=0.0001, verbose=0,\n",
              "                   warm_start=False)"
            ]
          },
          "metadata": {
            "tags": []
          },
          "execution_count": 4
        }
      ]
    },
    {
      "cell_type": "markdown",
      "metadata": {
        "id": "NoY6Hhq8hETw"
      },
      "source": [
        "## Applying the model on the testing data and finding accuracy"
      ]
    },
    {
      "cell_type": "code",
      "metadata": {
        "colab": {
          "base_uri": "https://localhost:8080/"
        },
        "id": "2-Hf2SF0hKNu",
        "outputId": "0dfa014b-052f-4f55-a061-0ede22e47207"
      },
      "source": [
        "predicted_outputs = logistic_regression_model.predict(testing_inputs)\n",
        "accuracy = accuracy_score(true_outputs, predicted_outputs)\n",
        "print('Accuracy of Logistic Regression Model:', '\\033[1m', str(accuracy * 100) + '%', '\\033[0m')"
      ],
      "execution_count": 5,
      "outputs": [
        {
          "output_type": "stream",
          "text": [
            "Accuracy of Logistic Regression Model: \u001b[1m 78.0% \u001b[0m\n"
          ],
          "name": "stdout"
        }
      ]
    }
  ]
}