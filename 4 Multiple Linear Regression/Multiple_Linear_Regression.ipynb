{
 "cells": [
  {
   "cell_type": "markdown",
   "metadata": {
    "id": "Iz8PymLV-R-W"
   },
   "source": [
    "# Multiple Linear Regression\n",
    "\n",
    "Name: Manas Trivedi  \n",
    "Roll no.: 181CO231  \n",
    "Date: 2 Mar 2021"
   ]
  },
  {
   "cell_type": "markdown",
   "metadata": {
    "id": "0j631Z4D5kwJ"
   },
   "source": [
    "## Importing libraries"
   ]
  },
  {
   "cell_type": "code",
   "execution_count": 1,
   "metadata": {
    "id": "p1lc5XLS5pAK"
   },
   "outputs": [],
   "source": [
    "import pandas as pd\n",
    "import matplotlib.pyplot as plt\n",
    "from sklearn.linear_model import LinearRegression\n",
    "from sklearn.model_selection import train_test_split\n",
    "from sklearn.metrics import mean_absolute_error\n",
    "from sklearn.metrics import mean_squared_error\n",
    "from math import sqrt"
   ]
  },
  {
   "cell_type": "markdown",
   "metadata": {
    "id": "rzcx6AeQ7TS3"
   },
   "source": [
    "## Reading the dataset, setting class label"
   ]
  },
  {
   "cell_type": "code",
   "execution_count": 2,
   "metadata": {
    "id": "Nge1Ssa37UFK"
   },
   "outputs": [],
   "source": [
    "data_frame = pd.read_csv('TimeTempYield.csv')\n",
    "inputs = data_frame.drop(columns = [\"PercentYield\"])\n",
    "outputs = data_frame[\"PercentYield\"]"
   ]
  },
  {
   "cell_type": "markdown",
   "metadata": {
    "id": "Ko3xoCAJ7Woy"
   },
   "source": [
    "## Splitting the dataset and building the model"
   ]
  },
  {
   "cell_type": "code",
   "execution_count": 3,
   "metadata": {
    "id": "O3Axp1gy7Zl-"
   },
   "outputs": [
    {
     "data": {
      "text/plain": [
       "LinearRegression()"
      ]
     },
     "execution_count": 3,
     "metadata": {},
     "output_type": "execute_result"
    }
   ],
   "source": [
    "training_inputs, testing_inputs, training_outputs, true_outputs = train_test_split(inputs, outputs, test_size = 0.3)\n",
    "linear_regression_model = LinearRegression()\n",
    "linear_regression_model.fit(training_inputs, training_outputs)"
   ]
  },
  {
   "cell_type": "markdown",
   "metadata": {
    "id": "-3xZjLqt7hyw"
   },
   "source": [
    "## Applying the model on the testing data and finding evaluation metrics"
   ]
  },
  {
   "cell_type": "code",
   "execution_count": 4,
   "metadata": {
    "colab": {
     "base_uri": "https://localhost:8080/"
    },
    "id": "dudF1sn67rBZ",
    "outputId": "b995935b-51c0-4f0e-ae4e-2daa92468fd3"
   },
   "outputs": [
    {
     "name": "stdout",
     "output_type": "stream",
     "text": [
      "\u001b[1m MEAN ABSOLUTE ERROR: \u001b[0m 8.611045135709555 %yield\n",
      "\u001b[1m MEAN SQUARED ERROR: \u001b[0m 94.17271692549978 %yield²\n",
      "\u001b[1m ROOT MEAN SQUARED ERROR: \u001b[0m 9.704262822363159 %yield\n"
     ]
    }
   ],
   "source": [
    "predicted_outputs = linear_regression_model.predict(testing_inputs)\n",
    "print('\\033[1m', 'MEAN ABSOLUTE ERROR:', '\\033[0m', mean_absolute_error(true_outputs, predicted_outputs), '%yield')\n",
    "print('\\033[1m', 'MEAN SQUARED ERROR:', '\\033[0m', mean_squared_error(true_outputs, predicted_outputs), '%yield\\u00b2')\n",
    "print('\\033[1m', 'ROOT MEAN SQUARED ERROR:', '\\033[0m', sqrt(mean_squared_error(true_outputs, predicted_outputs)), '%yield')"
   ]
  }
 ],
 "metadata": {
  "colab": {
   "name": "Multiple_Linear_Regression.ipynb",
   "provenance": []
  },
  "kernelspec": {
   "display_name": "Python 3",
   "language": "python",
   "name": "python3"
  },
  "language_info": {
   "codemirror_mode": {
    "name": "ipython",
    "version": 3
   },
   "file_extension": ".py",
   "mimetype": "text/x-python",
   "name": "python",
   "nbconvert_exporter": "python",
   "pygments_lexer": "ipython3",
   "version": "3.8.5"
  }
 },
 "nbformat": 4,
 "nbformat_minor": 1
}
