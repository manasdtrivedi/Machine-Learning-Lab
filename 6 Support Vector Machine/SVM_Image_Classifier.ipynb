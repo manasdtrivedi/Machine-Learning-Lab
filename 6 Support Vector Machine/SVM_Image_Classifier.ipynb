{
  "nbformat": 4,
  "nbformat_minor": 0,
  "metadata": {
    "kernelspec": {
      "display_name": "Python 3",
      "language": "python",
      "name": "python3"
    },
    "language_info": {
      "codemirror_mode": {
        "name": "ipython",
        "version": 3
      },
      "file_extension": ".py",
      "mimetype": "text/x-python",
      "name": "python",
      "nbconvert_exporter": "python",
      "pygments_lexer": "ipython3",
      "version": "3.8.5"
    },
    "colab": {
      "name": "SVM_Image_Classifier.ipynb",
      "provenance": []
    }
  },
  "cells": [
    {
      "cell_type": "markdown",
      "metadata": {
        "id": "qDFqpeBhdKta"
      },
      "source": [
        "# SVM Image Classifier\r\n",
        "\r\n",
        "Name: Manas Trivedi  \r\n",
        "Roll no.: 181CO231  \r\n",
        "Date: 16 Mar 2021"
      ]
    },
    {
      "cell_type": "markdown",
      "metadata": {
        "id": "ncktJz1Oj0IK"
      },
      "source": [
        "## Importing libraries"
      ]
    },
    {
      "cell_type": "code",
      "metadata": {
        "id": "HFNF0QqWS3XG"
      },
      "source": [
        "import pandas as pd\n",
        "from sklearn.model_selection import train_test_split\n",
        "from sklearn import svm, datasets\n",
        "from sklearn.metrics import accuracy_score"
      ],
      "execution_count": 1,
      "outputs": []
    },
    {
      "cell_type": "markdown",
      "metadata": {
        "id": "5oYxe2mXkAox"
      },
      "source": [
        "## Loading the dataset"
      ]
    },
    {
      "cell_type": "code",
      "metadata": {
        "id": "77-ZGi7eS3XN"
      },
      "source": [
        "data = datasets.load_digits()\n",
        "number_of_images = len(data.images)\n",
        "data.images = data.images.reshape((number_of_images, -1))"
      ],
      "execution_count": 2,
      "outputs": []
    },
    {
      "cell_type": "markdown",
      "metadata": {
        "id": "QKjseJGEo_HS"
      },
      "source": [
        "## Splitting the dataset and building the classifier"
      ]
    },
    {
      "cell_type": "code",
      "metadata": {
        "colab": {
          "base_uri": "https://localhost:8080/"
        },
        "id": "yshy0LjqS3XQ",
        "outputId": "e3339dbd-e5fc-4b51-f9df-a92edb46a3e3"
      },
      "source": [
        "training_inputs, testing_inputs, training_outputs, true_outputs = train_test_split(data.images, data.target)\n",
        "svm_classifier = svm.SVC(gamma = 0.001)\n",
        "svm_classifier.fit(training_inputs, training_outputs)"
      ],
      "execution_count": 3,
      "outputs": [
        {
          "output_type": "execute_result",
          "data": {
            "text/plain": [
              "SVC(C=1.0, break_ties=False, cache_size=200, class_weight=None, coef0=0.0,\n",
              "    decision_function_shape='ovr', degree=3, gamma=0.001, kernel='rbf',\n",
              "    max_iter=-1, probability=False, random_state=None, shrinking=True,\n",
              "    tol=0.001, verbose=False)"
            ]
          },
          "metadata": {
            "tags": []
          },
          "execution_count": 3
        }
      ]
    },
    {
      "cell_type": "markdown",
      "metadata": {
        "id": "ggMm5kqHvdYy"
      },
      "source": [
        "## Applying the classifier on the testing data and finding accuracy"
      ]
    },
    {
      "cell_type": "code",
      "metadata": {
        "colab": {
          "base_uri": "https://localhost:8080/"
        },
        "id": "G2X_0E4gS3XR",
        "outputId": "6e3537e6-5617-4fda-f361-5b45524672de"
      },
      "source": [
        "predicted_outputs = svm_classifier.predict(testing_inputs)\n",
        "accuracy = accuracy_score(true_outputs, predicted_outputs)\n",
        "print('Accuracy of SVM Classifier:', '\\033[1m', str(accuracy * 100) + '%', '\\033[0m')"
      ],
      "execution_count": 4,
      "outputs": [
        {
          "output_type": "stream",
          "text": [
            "Accuracy of SVM Classifier: \u001b[1m 98.66666666666667% \u001b[0m\n"
          ],
          "name": "stdout"
        }
      ]
    }
  ]
}