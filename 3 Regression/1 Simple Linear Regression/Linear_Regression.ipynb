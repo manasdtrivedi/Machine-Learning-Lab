{
 "cells": [
  {
   "cell_type": "markdown",
   "metadata": {
    "id": "Y_npzlDjN0lh"
   },
   "source": [
    "# Linear Regression\n",
    "\n",
    "Name: Manas Trivedi  \n",
    "Roll no.: 181CO231  \n",
    "Date: 23 Feb 2021"
   ]
  },
  {
   "cell_type": "markdown",
   "metadata": {
    "id": "haaBDnrTOhKz"
   },
   "source": [
    "## Importing libraries"
   ]
  },
  {
   "cell_type": "code",
   "execution_count": 1,
   "metadata": {
    "id": "5-JYsaxmOkMs"
   },
   "outputs": [],
   "source": [
    "import pandas as pd\n",
    "import matplotlib.pyplot as plt\n",
    "from sklearn.linear_model import LinearRegression\n",
    "from sklearn.model_selection import train_test_split\n",
    "from sklearn.metrics import mean_absolute_error, mean_squared_error\n",
    "from math import sqrt"
   ]
  },
  {
   "cell_type": "markdown",
   "metadata": {
    "id": "0NP3cziOPVjC"
   },
   "source": [
    "## Reading the dataset, setting class label"
   ]
  },
  {
   "cell_type": "code",
   "execution_count": 2,
   "metadata": {
    "id": "hWZBhbJ-Pb2K"
   },
   "outputs": [],
   "source": [
    "data_frame = pd.read_csv('height_weight.csv')\n",
    "inputs = data_frame[\"Height\"]\n",
    "outputs = data_frame[\"Weight\"]"
   ]
  },
  {
   "cell_type": "markdown",
   "metadata": {
    "id": "UnEHk02dQui0"
   },
   "source": [
    "## Splitting the dataset into training and testing data"
   ]
  },
  {
   "cell_type": "code",
   "execution_count": 3,
   "metadata": {
    "id": "egxr68VwQyHC"
   },
   "outputs": [],
   "source": [
    "training_inputs, testing_inputs, training_outputs, true_outputs = train_test_split(inputs, outputs, test_size = 0.3)\n",
    "training_inputs= training_inputs.values.reshape(-1, 1)\n",
    "training_outputs = training_outputs.values.reshape(-1, 1)\n",
    "testing_inputs = testing_inputs.values.reshape(-1, 1)"
   ]
  },
  {
   "cell_type": "markdown",
   "metadata": {
    "id": "zsp5rMWjQ2B5"
   },
   "source": [
    "## Creating and training the Linear Regression model"
   ]
  },
  {
   "cell_type": "code",
   "execution_count": 4,
   "metadata": {
    "colab": {
     "base_uri": "https://localhost:8080/"
    },
    "id": "fstriQPhRGk6",
    "outputId": "6d5894a1-5167-4baf-882f-9a703bd87ebf"
   },
   "outputs": [
    {
     "data": {
      "text/plain": [
       "LinearRegression()"
      ]
     },
     "execution_count": 4,
     "metadata": {},
     "output_type": "execute_result"
    }
   ],
   "source": [
    "linear_regression_model = LinearRegression()\n",
    "linear_regression_model.fit(training_inputs, training_outputs)"
   ]
  },
  {
   "cell_type": "markdown",
   "metadata": {
    "id": "aFZnQx-GRjZS"
   },
   "source": [
    "## Applying the model on the testing data and finding evaluation metrics"
   ]
  },
  {
   "cell_type": "code",
   "execution_count": 5,
   "metadata": {
    "colab": {
     "base_uri": "https://localhost:8080/"
    },
    "id": "m5eKWc5-Rprh",
    "outputId": "4f4573f8-a02f-43cc-dca1-f6fe0985f635"
   },
   "outputs": [
    {
     "name": "stdout",
     "output_type": "stream",
     "text": [
      "\u001b[1m MEAN ABSOLUTE ERROR: \u001b[0m 7.971517514823773 pounds\n",
      "\u001b[1m MEAN SQUARED ERROR: \u001b[0m 100.07454108002142 pounds²\n",
      "\u001b[1m ROOT MEAN SQUARED ERROR: \u001b[0m 10.003726359713236 pounds\n"
     ]
    }
   ],
   "source": [
    "predicted_outputs = linear_regression_model.predict(testing_inputs)\n",
    "print('\\033[1m', 'MEAN ABSOLUTE ERROR:', '\\033[0m', mean_absolute_error(true_outputs, predicted_outputs), 'pounds')\n",
    "print('\\033[1m', 'MEAN SQUARED ERROR:', '\\033[0m', mean_squared_error(true_outputs, predicted_outputs), 'pounds\\u00b2')\n",
    "print('\\033[1m', 'ROOT MEAN SQUARED ERROR:', '\\033[0m', sqrt(mean_squared_error(true_outputs, predicted_outputs)), 'pounds')"
   ]
  },
  {
   "cell_type": "markdown",
   "metadata": {
    "id": "hzS5vKH_oBmY"
   },
   "source": [
    "## Visualizing results"
   ]
  },
  {
   "cell_type": "code",
   "execution_count": 6,
   "metadata": {
    "colab": {
     "base_uri": "https://localhost:8080/",
     "height": 295
    },
    "id": "Bvqu3hh8oGao",
    "outputId": "2993107d-d24c-4123-a2e2-644b288838ac"
   },
   "outputs": [
    {
     "data": {
      "image/png": "[encoded data removed]",
      "text/plain": [
       "<Figure size 432x288 with 1 Axes>"
      ]
     },
     "metadata": {
      "needs_background": "light"
     },
     "output_type": "display_data"
    }
   ],
   "source": [
    "plt.scatter(testing_inputs, true_outputs, color = 'red')\n",
    "plt.plot(training_inputs, linear_regression_model.predict(training_inputs), color = 'blue')\n",
    "plt.title('Height vs Weight (Testing)')\n",
    "plt.xlabel('Height (inches)')\n",
    "plt.ylabel('Weight (pounds)')\n",
    "plt.show()"
   ]
  }
 ],
 "metadata": {
  "colab": {
   "name": "Linear_Regression.ipynb",
   "provenance": []
  },
  "kernelspec": {
   "display_name": "Python 3",
   "language": "python",
   "name": "python3"
  },
  "language_info": {
   "codemirror_mode": {
    "name": "ipython",
    "version": 3
   },
   "file_extension": ".py",
   "mimetype": "text/x-python",
   "name": "python",
   "nbconvert_exporter": "python",
   "pygments_lexer": "ipython3",
   "version": "3.8.5"
  }
 },
 "nbformat": 4,
 "nbformat_minor": 1
}
